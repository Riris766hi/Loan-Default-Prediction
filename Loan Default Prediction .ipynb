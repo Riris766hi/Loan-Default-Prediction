{
 "cells": [
  {
   "cell_type": "markdown",
   "metadata": {},
   "source": [
    "# Loan Default Prediction "
   ]
  },
  {
   "cell_type": "code",
   "execution_count": 1,
   "metadata": {},
   "outputs": [],
   "source": [
    "import numpy as np # linear algebra\n",
    "import pandas as pd # data processing, CSV file I/O (e.g. pd.read_csv)\n",
    "import matplotlib.pyplot as plt # Visualization\n",
    "import seaborn as sns # For easier statistical plotting\n",
    "sns.set_style(\"whitegrid\")"
   ]
  },
  {
   "cell_type": "code",
   "execution_count": 2,
   "metadata": {},
   "outputs": [],
   "source": [
    "import warnings\n",
    "warnings. filterwarnings('ignore')"
   ]
  },
  {
   "cell_type": "markdown",
   "metadata": {},
   "source": [
    "## Data Extraction"
   ]
  },
  {
   "cell_type": "code",
   "execution_count": 3,
   "metadata": {},
   "outputs": [
    {
     "data": {
      "text/plain": [
       "(105471, 771)"
      ]
     },
     "execution_count": 3,
     "metadata": {},
     "output_type": "execute_result"
    }
   ],
   "source": [
    "data = pd.read_csv(\"train_v2.csv\")\n",
    "data.shape"
   ]
  },
  {
   "cell_type": "code",
   "execution_count": 4,
   "metadata": {},
   "outputs": [
    {
     "data": {
      "text/html": [
       "<div>\n",
       "<style scoped>\n",
       "    .dataframe tbody tr th:only-of-type {\n",
       "        vertical-align: middle;\n",
       "    }\n",
       "\n",
       "    .dataframe tbody tr th {\n",
       "        vertical-align: top;\n",
       "    }\n",
       "\n",
       "    .dataframe thead th {\n",
       "        text-align: right;\n",
       "    }\n",
       "</style>\n",
       "<table border=\"1\" class=\"dataframe\">\n",
       "  <thead>\n",
       "    <tr style=\"text-align: right;\">\n",
       "      <th></th>\n",
       "      <th>id</th>\n",
       "      <th>f1</th>\n",
       "      <th>f2</th>\n",
       "      <th>f3</th>\n",
       "      <th>f4</th>\n",
       "      <th>f5</th>\n",
       "      <th>f6</th>\n",
       "      <th>f7</th>\n",
       "      <th>f8</th>\n",
       "      <th>f9</th>\n",
       "      <th>...</th>\n",
       "      <th>f770</th>\n",
       "      <th>f771</th>\n",
       "      <th>f772</th>\n",
       "      <th>f773</th>\n",
       "      <th>f774</th>\n",
       "      <th>f775</th>\n",
       "      <th>f776</th>\n",
       "      <th>f777</th>\n",
       "      <th>f778</th>\n",
       "      <th>loss</th>\n",
       "    </tr>\n",
       "  </thead>\n",
       "  <tbody>\n",
       "    <tr>\n",
       "      <th>0</th>\n",
       "      <td>1</td>\n",
       "      <td>126</td>\n",
       "      <td>10</td>\n",
       "      <td>0.686842</td>\n",
       "      <td>1100</td>\n",
       "      <td>3</td>\n",
       "      <td>13699</td>\n",
       "      <td>7201.0</td>\n",
       "      <td>4949.0</td>\n",
       "      <td>126.75</td>\n",
       "      <td>...</td>\n",
       "      <td>5</td>\n",
       "      <td>2.14</td>\n",
       "      <td>-1.54</td>\n",
       "      <td>1.18</td>\n",
       "      <td>0.1833</td>\n",
       "      <td>0.7873</td>\n",
       "      <td>1</td>\n",
       "      <td>0</td>\n",
       "      <td>5</td>\n",
       "      <td>0</td>\n",
       "    </tr>\n",
       "    <tr>\n",
       "      <th>1</th>\n",
       "      <td>2</td>\n",
       "      <td>121</td>\n",
       "      <td>10</td>\n",
       "      <td>0.782776</td>\n",
       "      <td>1100</td>\n",
       "      <td>3</td>\n",
       "      <td>84645</td>\n",
       "      <td>240.0</td>\n",
       "      <td>1625.0</td>\n",
       "      <td>123.52</td>\n",
       "      <td>...</td>\n",
       "      <td>6</td>\n",
       "      <td>0.54</td>\n",
       "      <td>-0.24</td>\n",
       "      <td>0.13</td>\n",
       "      <td>0.1926</td>\n",
       "      <td>-0.6787</td>\n",
       "      <td>1</td>\n",
       "      <td>0</td>\n",
       "      <td>5</td>\n",
       "      <td>0</td>\n",
       "    </tr>\n",
       "    <tr>\n",
       "      <th>2</th>\n",
       "      <td>3</td>\n",
       "      <td>126</td>\n",
       "      <td>10</td>\n",
       "      <td>0.500080</td>\n",
       "      <td>1100</td>\n",
       "      <td>3</td>\n",
       "      <td>83607</td>\n",
       "      <td>1800.0</td>\n",
       "      <td>1527.0</td>\n",
       "      <td>127.76</td>\n",
       "      <td>...</td>\n",
       "      <td>13</td>\n",
       "      <td>2.89</td>\n",
       "      <td>-1.73</td>\n",
       "      <td>1.04</td>\n",
       "      <td>0.2521</td>\n",
       "      <td>0.7258</td>\n",
       "      <td>1</td>\n",
       "      <td>0</td>\n",
       "      <td>5</td>\n",
       "      <td>0</td>\n",
       "    </tr>\n",
       "    <tr>\n",
       "      <th>3</th>\n",
       "      <td>4</td>\n",
       "      <td>134</td>\n",
       "      <td>10</td>\n",
       "      <td>0.439874</td>\n",
       "      <td>1100</td>\n",
       "      <td>3</td>\n",
       "      <td>82642</td>\n",
       "      <td>7542.0</td>\n",
       "      <td>1730.0</td>\n",
       "      <td>132.94</td>\n",
       "      <td>...</td>\n",
       "      <td>4</td>\n",
       "      <td>1.29</td>\n",
       "      <td>-0.89</td>\n",
       "      <td>0.66</td>\n",
       "      <td>0.2498</td>\n",
       "      <td>0.7119</td>\n",
       "      <td>1</td>\n",
       "      <td>0</td>\n",
       "      <td>5</td>\n",
       "      <td>0</td>\n",
       "    </tr>\n",
       "    <tr>\n",
       "      <th>4</th>\n",
       "      <td>5</td>\n",
       "      <td>109</td>\n",
       "      <td>9</td>\n",
       "      <td>0.502749</td>\n",
       "      <td>2900</td>\n",
       "      <td>4</td>\n",
       "      <td>79124</td>\n",
       "      <td>89.0</td>\n",
       "      <td>491.0</td>\n",
       "      <td>122.72</td>\n",
       "      <td>...</td>\n",
       "      <td>26</td>\n",
       "      <td>6.11</td>\n",
       "      <td>-3.82</td>\n",
       "      <td>2.51</td>\n",
       "      <td>0.2282</td>\n",
       "      <td>-0.5399</td>\n",
       "      <td>0</td>\n",
       "      <td>0</td>\n",
       "      <td>5</td>\n",
       "      <td>0</td>\n",
       "    </tr>\n",
       "  </tbody>\n",
       "</table>\n",
       "<p>5 rows × 771 columns</p>\n",
       "</div>"
      ],
      "text/plain": [
       "   id   f1  f2        f3    f4  f5     f6      f7      f8      f9  ...  f770  \\\n",
       "0   1  126  10  0.686842  1100   3  13699  7201.0  4949.0  126.75  ...     5   \n",
       "1   2  121  10  0.782776  1100   3  84645   240.0  1625.0  123.52  ...     6   \n",
       "2   3  126  10  0.500080  1100   3  83607  1800.0  1527.0  127.76  ...    13   \n",
       "3   4  134  10  0.439874  1100   3  82642  7542.0  1730.0  132.94  ...     4   \n",
       "4   5  109   9  0.502749  2900   4  79124    89.0   491.0  122.72  ...    26   \n",
       "\n",
       "   f771  f772  f773    f774    f775  f776  f777  f778  loss  \n",
       "0  2.14 -1.54  1.18  0.1833  0.7873     1     0     5     0  \n",
       "1  0.54 -0.24  0.13  0.1926 -0.6787     1     0     5     0  \n",
       "2  2.89 -1.73  1.04  0.2521  0.7258     1     0     5     0  \n",
       "3  1.29 -0.89  0.66  0.2498  0.7119     1     0     5     0  \n",
       "4  6.11 -3.82  2.51  0.2282 -0.5399     0     0     5     0  \n",
       "\n",
       "[5 rows x 771 columns]"
      ]
     },
     "execution_count": 4,
     "metadata": {},
     "output_type": "execute_result"
    }
   ],
   "source": [
    "data.head()"
   ]
  },
  {
   "cell_type": "code",
   "execution_count": 5,
   "metadata": {},
   "outputs": [
    {
     "name": "stdout",
     "output_type": "stream",
     "text": [
      "<class 'pandas.core.frame.DataFrame'>\n",
      "RangeIndex: 105471 entries, 0 to 105470\n",
      "Columns: 771 entries, id to loss\n",
      "dtypes: float64(653), int64(99), object(19)\n",
      "memory usage: 620.4+ MB\n"
     ]
    }
   ],
   "source": [
    "data.info()"
   ]
  },
  {
   "cell_type": "code",
   "execution_count": 6,
   "metadata": {},
   "outputs": [
    {
     "data": {
      "text/html": [
       "<div>\n",
       "<style scoped>\n",
       "    .dataframe tbody tr th:only-of-type {\n",
       "        vertical-align: middle;\n",
       "    }\n",
       "\n",
       "    .dataframe tbody tr th {\n",
       "        vertical-align: top;\n",
       "    }\n",
       "\n",
       "    .dataframe thead th {\n",
       "        text-align: right;\n",
       "    }\n",
       "</style>\n",
       "<table border=\"1\" class=\"dataframe\">\n",
       "  <thead>\n",
       "    <tr style=\"text-align: right;\">\n",
       "      <th></th>\n",
       "      <th>id</th>\n",
       "      <th>f1</th>\n",
       "      <th>f2</th>\n",
       "      <th>f3</th>\n",
       "      <th>f4</th>\n",
       "      <th>f5</th>\n",
       "      <th>f6</th>\n",
       "      <th>f7</th>\n",
       "      <th>f8</th>\n",
       "      <th>f9</th>\n",
       "      <th>...</th>\n",
       "      <th>f770</th>\n",
       "      <th>f771</th>\n",
       "      <th>f772</th>\n",
       "      <th>f773</th>\n",
       "      <th>f774</th>\n",
       "      <th>f775</th>\n",
       "      <th>f776</th>\n",
       "      <th>f777</th>\n",
       "      <th>f778</th>\n",
       "      <th>loss</th>\n",
       "    </tr>\n",
       "  </thead>\n",
       "  <tbody>\n",
       "    <tr>\n",
       "      <th>count</th>\n",
       "      <td>105471.000000</td>\n",
       "      <td>105471.000000</td>\n",
       "      <td>105471.000000</td>\n",
       "      <td>105471.000000</td>\n",
       "      <td>105471.000000</td>\n",
       "      <td>105471.000000</td>\n",
       "      <td>105471.000000</td>\n",
       "      <td>105289.000000</td>\n",
       "      <td>105370.000000</td>\n",
       "      <td>105471.000000</td>\n",
       "      <td>...</td>\n",
       "      <td>105471.000000</td>\n",
       "      <td>105471.000000</td>\n",
       "      <td>105471.000000</td>\n",
       "      <td>105471.000000</td>\n",
       "      <td>104407.000000</td>\n",
       "      <td>103946.000000</td>\n",
       "      <td>105471.000000</td>\n",
       "      <td>105471.000000</td>\n",
       "      <td>105471.000000</td>\n",
       "      <td>105471.000000</td>\n",
       "    </tr>\n",
       "    <tr>\n",
       "      <th>mean</th>\n",
       "      <td>52736.000000</td>\n",
       "      <td>134.603171</td>\n",
       "      <td>8.246883</td>\n",
       "      <td>0.499066</td>\n",
       "      <td>2678.488874</td>\n",
       "      <td>7.354533</td>\n",
       "      <td>47993.704317</td>\n",
       "      <td>2974.336018</td>\n",
       "      <td>2436.363718</td>\n",
       "      <td>134.555225</td>\n",
       "      <td>...</td>\n",
       "      <td>17.422543</td>\n",
       "      <td>5.800976</td>\n",
       "      <td>-4.246788</td>\n",
       "      <td>3.273059</td>\n",
       "      <td>0.233852</td>\n",
       "      <td>0.014797</td>\n",
       "      <td>0.310246</td>\n",
       "      <td>0.322847</td>\n",
       "      <td>175.951589</td>\n",
       "      <td>0.799585</td>\n",
       "    </tr>\n",
       "    <tr>\n",
       "      <th>std</th>\n",
       "      <td>30446.999458</td>\n",
       "      <td>14.725467</td>\n",
       "      <td>1.691535</td>\n",
       "      <td>0.288752</td>\n",
       "      <td>1401.010943</td>\n",
       "      <td>5.151112</td>\n",
       "      <td>35677.136048</td>\n",
       "      <td>2546.551085</td>\n",
       "      <td>2262.950221</td>\n",
       "      <td>13.824682</td>\n",
       "      <td>...</td>\n",
       "      <td>18.548936</td>\n",
       "      <td>6.508555</td>\n",
       "      <td>4.828265</td>\n",
       "      <td>3.766746</td>\n",
       "      <td>0.073578</td>\n",
       "      <td>1.039439</td>\n",
       "      <td>0.462597</td>\n",
       "      <td>0.467567</td>\n",
       "      <td>298.294043</td>\n",
       "      <td>4.321120</td>\n",
       "    </tr>\n",
       "    <tr>\n",
       "      <th>min</th>\n",
       "      <td>1.000000</td>\n",
       "      <td>103.000000</td>\n",
       "      <td>1.000000</td>\n",
       "      <td>0.000006</td>\n",
       "      <td>1100.000000</td>\n",
       "      <td>1.000000</td>\n",
       "      <td>0.000000</td>\n",
       "      <td>1.000000</td>\n",
       "      <td>1.000000</td>\n",
       "      <td>106.820000</td>\n",
       "      <td>...</td>\n",
       "      <td>2.000000</td>\n",
       "      <td>0.000000</td>\n",
       "      <td>-43.160000</td>\n",
       "      <td>0.000000</td>\n",
       "      <td>0.000000</td>\n",
       "      <td>-18.439600</td>\n",
       "      <td>0.000000</td>\n",
       "      <td>0.000000</td>\n",
       "      <td>2.000000</td>\n",
       "      <td>0.000000</td>\n",
       "    </tr>\n",
       "    <tr>\n",
       "      <th>25%</th>\n",
       "      <td>26368.500000</td>\n",
       "      <td>124.000000</td>\n",
       "      <td>8.000000</td>\n",
       "      <td>0.248950</td>\n",
       "      <td>1500.000000</td>\n",
       "      <td>4.000000</td>\n",
       "      <td>11255.000000</td>\n",
       "      <td>629.000000</td>\n",
       "      <td>746.000000</td>\n",
       "      <td>124.290000</td>\n",
       "      <td>...</td>\n",
       "      <td>5.000000</td>\n",
       "      <td>1.480000</td>\n",
       "      <td>-5.700000</td>\n",
       "      <td>0.740000</td>\n",
       "      <td>0.198400</td>\n",
       "      <td>-0.704275</td>\n",
       "      <td>0.000000</td>\n",
       "      <td>0.000000</td>\n",
       "      <td>19.000000</td>\n",
       "      <td>0.000000</td>\n",
       "    </tr>\n",
       "    <tr>\n",
       "      <th>50%</th>\n",
       "      <td>52736.000000</td>\n",
       "      <td>129.000000</td>\n",
       "      <td>9.000000</td>\n",
       "      <td>0.498267</td>\n",
       "      <td>2200.000000</td>\n",
       "      <td>4.000000</td>\n",
       "      <td>76530.000000</td>\n",
       "      <td>2292.000000</td>\n",
       "      <td>1786.000000</td>\n",
       "      <td>128.460000</td>\n",
       "      <td>...</td>\n",
       "      <td>11.000000</td>\n",
       "      <td>3.570000</td>\n",
       "      <td>-2.600000</td>\n",
       "      <td>1.990000</td>\n",
       "      <td>0.251800</td>\n",
       "      <td>0.375400</td>\n",
       "      <td>0.000000</td>\n",
       "      <td>0.000000</td>\n",
       "      <td>40.000000</td>\n",
       "      <td>0.000000</td>\n",
       "    </tr>\n",
       "    <tr>\n",
       "      <th>75%</th>\n",
       "      <td>79103.500000</td>\n",
       "      <td>148.000000</td>\n",
       "      <td>9.000000</td>\n",
       "      <td>0.749494</td>\n",
       "      <td>3700.000000</td>\n",
       "      <td>10.000000</td>\n",
       "      <td>80135.000000</td>\n",
       "      <td>4679.000000</td>\n",
       "      <td>3411.000000</td>\n",
       "      <td>149.080000</td>\n",
       "      <td>...</td>\n",
       "      <td>23.000000</td>\n",
       "      <td>7.700000</td>\n",
       "      <td>-1.010000</td>\n",
       "      <td>4.440000</td>\n",
       "      <td>0.283600</td>\n",
       "      <td>0.737100</td>\n",
       "      <td>1.000000</td>\n",
       "      <td>1.000000</td>\n",
       "      <td>104.000000</td>\n",
       "      <td>0.000000</td>\n",
       "    </tr>\n",
       "    <tr>\n",
       "      <th>max</th>\n",
       "      <td>105471.000000</td>\n",
       "      <td>176.000000</td>\n",
       "      <td>11.000000</td>\n",
       "      <td>0.999994</td>\n",
       "      <td>7900.000000</td>\n",
       "      <td>17.000000</td>\n",
       "      <td>88565.000000</td>\n",
       "      <td>9968.000000</td>\n",
       "      <td>11541.000000</td>\n",
       "      <td>172.950000</td>\n",
       "      <td>...</td>\n",
       "      <td>168.000000</td>\n",
       "      <td>58.120000</td>\n",
       "      <td>0.000000</td>\n",
       "      <td>34.040000</td>\n",
       "      <td>0.473700</td>\n",
       "      <td>11.092000</td>\n",
       "      <td>1.000000</td>\n",
       "      <td>1.000000</td>\n",
       "      <td>1212.000000</td>\n",
       "      <td>100.000000</td>\n",
       "    </tr>\n",
       "  </tbody>\n",
       "</table>\n",
       "<p>8 rows × 752 columns</p>\n",
       "</div>"
      ],
      "text/plain": [
       "                  id             f1             f2             f3  \\\n",
       "count  105471.000000  105471.000000  105471.000000  105471.000000   \n",
       "mean    52736.000000     134.603171       8.246883       0.499066   \n",
       "std     30446.999458      14.725467       1.691535       0.288752   \n",
       "min         1.000000     103.000000       1.000000       0.000006   \n",
       "25%     26368.500000     124.000000       8.000000       0.248950   \n",
       "50%     52736.000000     129.000000       9.000000       0.498267   \n",
       "75%     79103.500000     148.000000       9.000000       0.749494   \n",
       "max    105471.000000     176.000000      11.000000       0.999994   \n",
       "\n",
       "                  f4             f5             f6             f7  \\\n",
       "count  105471.000000  105471.000000  105471.000000  105289.000000   \n",
       "mean     2678.488874       7.354533   47993.704317    2974.336018   \n",
       "std      1401.010943       5.151112   35677.136048    2546.551085   \n",
       "min      1100.000000       1.000000       0.000000       1.000000   \n",
       "25%      1500.000000       4.000000   11255.000000     629.000000   \n",
       "50%      2200.000000       4.000000   76530.000000    2292.000000   \n",
       "75%      3700.000000      10.000000   80135.000000    4679.000000   \n",
       "max      7900.000000      17.000000   88565.000000    9968.000000   \n",
       "\n",
       "                  f8             f9  ...           f770           f771  \\\n",
       "count  105370.000000  105471.000000  ...  105471.000000  105471.000000   \n",
       "mean     2436.363718     134.555225  ...      17.422543       5.800976   \n",
       "std      2262.950221      13.824682  ...      18.548936       6.508555   \n",
       "min         1.000000     106.820000  ...       2.000000       0.000000   \n",
       "25%       746.000000     124.290000  ...       5.000000       1.480000   \n",
       "50%      1786.000000     128.460000  ...      11.000000       3.570000   \n",
       "75%      3411.000000     149.080000  ...      23.000000       7.700000   \n",
       "max     11541.000000     172.950000  ...     168.000000      58.120000   \n",
       "\n",
       "                f772           f773           f774           f775  \\\n",
       "count  105471.000000  105471.000000  104407.000000  103946.000000   \n",
       "mean       -4.246788       3.273059       0.233852       0.014797   \n",
       "std         4.828265       3.766746       0.073578       1.039439   \n",
       "min       -43.160000       0.000000       0.000000     -18.439600   \n",
       "25%        -5.700000       0.740000       0.198400      -0.704275   \n",
       "50%        -2.600000       1.990000       0.251800       0.375400   \n",
       "75%        -1.010000       4.440000       0.283600       0.737100   \n",
       "max         0.000000      34.040000       0.473700      11.092000   \n",
       "\n",
       "                f776           f777           f778           loss  \n",
       "count  105471.000000  105471.000000  105471.000000  105471.000000  \n",
       "mean        0.310246       0.322847     175.951589       0.799585  \n",
       "std         0.462597       0.467567     298.294043       4.321120  \n",
       "min         0.000000       0.000000       2.000000       0.000000  \n",
       "25%         0.000000       0.000000      19.000000       0.000000  \n",
       "50%         0.000000       0.000000      40.000000       0.000000  \n",
       "75%         1.000000       1.000000     104.000000       0.000000  \n",
       "max         1.000000       1.000000    1212.000000     100.000000  \n",
       "\n",
       "[8 rows x 752 columns]"
      ]
     },
     "execution_count": 6,
     "metadata": {},
     "output_type": "execute_result"
    }
   ],
   "source": [
    "data.describe()"
   ]
  },
  {
   "cell_type": "markdown",
   "metadata": {},
   "source": [
    "## Feature Engineering"
   ]
  },
  {
   "cell_type": "code",
   "execution_count": 7,
   "metadata": {},
   "outputs": [
    {
     "data": {
      "text/html": [
       "<div>\n",
       "<style scoped>\n",
       "    .dataframe tbody tr th:only-of-type {\n",
       "        vertical-align: middle;\n",
       "    }\n",
       "\n",
       "    .dataframe tbody tr th {\n",
       "        vertical-align: top;\n",
       "    }\n",
       "\n",
       "    .dataframe thead th {\n",
       "        text-align: right;\n",
       "    }\n",
       "</style>\n",
       "<table border=\"1\" class=\"dataframe\">\n",
       "  <thead>\n",
       "    <tr style=\"text-align: right;\">\n",
       "      <th></th>\n",
       "      <th>f137</th>\n",
       "      <th>f138</th>\n",
       "      <th>f206</th>\n",
       "      <th>f207</th>\n",
       "      <th>f276</th>\n",
       "      <th>f277</th>\n",
       "      <th>f338</th>\n",
       "      <th>f390</th>\n",
       "      <th>f391</th>\n",
       "      <th>f419</th>\n",
       "      <th>f420</th>\n",
       "      <th>f469</th>\n",
       "      <th>f472</th>\n",
       "      <th>f534</th>\n",
       "      <th>f537</th>\n",
       "      <th>f626</th>\n",
       "      <th>f627</th>\n",
       "      <th>f695</th>\n",
       "      <th>f698</th>\n",
       "    </tr>\n",
       "  </thead>\n",
       "  <tbody>\n",
       "    <tr>\n",
       "      <th>0</th>\n",
       "      <td>8090000000000000</td>\n",
       "      <td>754485076006959972352</td>\n",
       "      <td>3200000000000</td>\n",
       "      <td>38600000000000000</td>\n",
       "      <td>7900000000000000</td>\n",
       "      <td>683091368180479950848</td>\n",
       "      <td>7610000000000</td>\n",
       "      <td>10370164393071999997033054208</td>\n",
       "      <td>13621142007705000132589703585884798976</td>\n",
       "      <td>137000000000</td>\n",
       "      <td>511000000000000</td>\n",
       "      <td>569877634360569973702656</td>\n",
       "      <td>3427303293502300223465356001280</td>\n",
       "      <td>240811094251680005357568</td>\n",
       "      <td>1185103615651699994464937312256</td>\n",
       "      <td>11724173453590999285553430528</td>\n",
       "      <td>16027029142402000396838501389877379072</td>\n",
       "      <td>8700000000000000000</td>\n",
       "      <td>8010000000000000000</td>\n",
       "    </tr>\n",
       "    <tr>\n",
       "      <th>1</th>\n",
       "      <td>2250000000000</td>\n",
       "      <td>15300000000000000</td>\n",
       "      <td>392000000000</td>\n",
       "      <td>1690000000000000</td>\n",
       "      <td>92300000000000</td>\n",
       "      <td>2140000000000000000</td>\n",
       "      <td>796594176</td>\n",
       "      <td>5098137566366599989877014528</td>\n",
       "      <td>5366154527659000357778647583412977664</td>\n",
       "      <td>9483264</td>\n",
       "      <td>1593188352</td>\n",
       "      <td>107000000000000000</td>\n",
       "      <td>9894337169928600158208</td>\n",
       "      <td>251470350285930004480</td>\n",
       "      <td>161196782629860003268263936</td>\n",
       "      <td>6391495663130699779035627520</td>\n",
       "      <td>7158933769610900052770065343332745216</td>\n",
       "      <td>5890000000000000000</td>\n",
       "      <td>5030000000000000000</td>\n",
       "    </tr>\n",
       "    <tr>\n",
       "      <th>2</th>\n",
       "      <td>186000000000000</td>\n",
       "      <td>6910365323840000000</td>\n",
       "      <td>23700000000000</td>\n",
       "      <td>389000000000000000</td>\n",
       "      <td>10300000000000</td>\n",
       "      <td>69200000000000000</td>\n",
       "      <td>461000000000</td>\n",
       "      <td>26400269714792999161039945728</td>\n",
       "      <td>36117033568522998807722429270944907264</td>\n",
       "      <td>36051866452</td>\n",
       "      <td>63500000000000</td>\n",
       "      <td>313319151143610023936</td>\n",
       "      <td>222812827058929985669562368</td>\n",
       "      <td>116067852739909992448</td>\n",
       "      <td>61668865475731997253959680</td>\n",
       "      <td>36420952401170000260810932224</td>\n",
       "      <td>56027915541865997900093655676589441024</td>\n",
       "      <td>24512111987574001664</td>\n",
       "      <td>19855991371293999104</td>\n",
       "    </tr>\n",
       "    <tr>\n",
       "      <th>3</th>\n",
       "      <td>44500000000000000</td>\n",
       "      <td>11225194901267999096832</td>\n",
       "      <td>16098514954</td>\n",
       "      <td>35000000000000</td>\n",
       "      <td>22200000000000</td>\n",
       "      <td>295000000000000000</td>\n",
       "      <td>1330000000000</td>\n",
       "      <td>9333818143939599917454983168</td>\n",
       "      <td>12638526060843999893906772076814925824</td>\n",
       "      <td>5621900678</td>\n",
       "      <td>9380000000000</td>\n",
       "      <td>2641626213765599994052608</td>\n",
       "      <td>24452856014536001129152839155712</td>\n",
       "      <td>202899352692079984640</td>\n",
       "      <td>126293716597939998795235328</td>\n",
       "      <td>15267506423634001098621059072</td>\n",
       "      <td>24362045267421999852972382580757233664</td>\n",
       "      <td>9660000000000000000</td>\n",
       "      <td>6960000000000000000</td>\n",
       "    </tr>\n",
       "    <tr>\n",
       "      <th>4</th>\n",
       "      <td>52152926246</td>\n",
       "      <td>108000000000000</td>\n",
       "      <td>442000000000</td>\n",
       "      <td>1870000000000000</td>\n",
       "      <td>3630000000000</td>\n",
       "      <td>23100000000000000</td>\n",
       "      <td>2240000000000</td>\n",
       "      <td>196004669899870011305513451520</td>\n",
       "      <td>428213273484070002013091334592080642048</td>\n",
       "      <td>279000000000</td>\n",
       "      <td>659000000000000</td>\n",
       "      <td>68300000000000</td>\n",
       "      <td>922000000000000000</td>\n",
       "      <td>654000000000000000</td>\n",
       "      <td>89341826582645997305856</td>\n",
       "      <td>238204359524660008028924280832</td>\n",
       "      <td>550170020491249969340152709153269219328</td>\n",
       "      <td>108505460071560003584</td>\n",
       "      <td>94766610066210996224</td>\n",
       "    </tr>\n",
       "  </tbody>\n",
       "</table>\n",
       "</div>"
      ],
      "text/plain": [
       "                f137                     f138            f206  \\\n",
       "0   8090000000000000    754485076006959972352   3200000000000   \n",
       "1      2250000000000        15300000000000000    392000000000   \n",
       "2    186000000000000      6910365323840000000  23700000000000   \n",
       "3  44500000000000000  11225194901267999096832     16098514954   \n",
       "4        52152926246          108000000000000    442000000000   \n",
       "\n",
       "                 f207              f276                   f277           f338  \\\n",
       "0   38600000000000000  7900000000000000  683091368180479950848  7610000000000   \n",
       "1    1690000000000000    92300000000000    2140000000000000000      796594176   \n",
       "2  389000000000000000    10300000000000      69200000000000000   461000000000   \n",
       "3      35000000000000    22200000000000     295000000000000000  1330000000000   \n",
       "4    1870000000000000     3630000000000      23100000000000000  2240000000000   \n",
       "\n",
       "                             f390                                     f391  \\\n",
       "0   10370164393071999997033054208   13621142007705000132589703585884798976   \n",
       "1    5098137566366599989877014528    5366154527659000357778647583412977664   \n",
       "2   26400269714792999161039945728   36117033568522998807722429270944907264   \n",
       "3    9333818143939599917454983168   12638526060843999893906772076814925824   \n",
       "4  196004669899870011305513451520  428213273484070002013091334592080642048   \n",
       "\n",
       "           f419             f420                       f469  \\\n",
       "0  137000000000  511000000000000   569877634360569973702656   \n",
       "1       9483264       1593188352         107000000000000000   \n",
       "2   36051866452   63500000000000      313319151143610023936   \n",
       "3    5621900678    9380000000000  2641626213765599994052608   \n",
       "4  279000000000  659000000000000             68300000000000   \n",
       "\n",
       "                               f472                      f534  \\\n",
       "0   3427303293502300223465356001280  240811094251680005357568   \n",
       "1            9894337169928600158208     251470350285930004480   \n",
       "2       222812827058929985669562368     116067852739909992448   \n",
       "3  24452856014536001129152839155712     202899352692079984640   \n",
       "4                922000000000000000        654000000000000000   \n",
       "\n",
       "                              f537                            f626  \\\n",
       "0  1185103615651699994464937312256   11724173453590999285553430528   \n",
       "1      161196782629860003268263936    6391495663130699779035627520   \n",
       "2       61668865475731997253959680   36420952401170000260810932224   \n",
       "3      126293716597939998795235328   15267506423634001098621059072   \n",
       "4          89341826582645997305856  238204359524660008028924280832   \n",
       "\n",
       "                                      f627                   f695  \\\n",
       "0   16027029142402000396838501389877379072    8700000000000000000   \n",
       "1    7158933769610900052770065343332745216    5890000000000000000   \n",
       "2   56027915541865997900093655676589441024   24512111987574001664   \n",
       "3   24362045267421999852972382580757233664    9660000000000000000   \n",
       "4  550170020491249969340152709153269219328  108505460071560003584   \n",
       "\n",
       "                   f698  \n",
       "0   8010000000000000000  \n",
       "1   5030000000000000000  \n",
       "2  19855991371293999104  \n",
       "3   6960000000000000000  \n",
       "4  94766610066210996224  "
      ]
     },
     "execution_count": 7,
     "metadata": {},
     "output_type": "execute_result"
    }
   ],
   "source": [
    "categorical_feats = data.dtypes[data.dtypes == 'object'].index\n",
    "data[categorical_feats].head()"
   ]
  },
  {
   "cell_type": "markdown",
   "metadata": {},
   "source": [
    "these categorical columns seems to be way too high and encoding them will be difficult, so we will drop them."
   ]
  },
  {
   "cell_type": "code",
   "execution_count": 8,
   "metadata": {},
   "outputs": [
    {
     "data": {
      "text/plain": [
       "Index(['f137', 'f138', 'f206', 'f207', 'f276', 'f277', 'f338', 'f390', 'f391',\n",
       "       'f419', 'f420', 'f469', 'f472', 'f534', 'f537', 'f626', 'f627', 'f695',\n",
       "       'f698'],\n",
       "      dtype='object')"
      ]
     },
     "execution_count": 8,
     "metadata": {},
     "output_type": "execute_result"
    }
   ],
   "source": [
    "categorical_feats"
   ]
  },
  {
   "cell_type": "code",
   "execution_count": 9,
   "metadata": {},
   "outputs": [],
   "source": [
    "for col in categorical_feats:\n",
    "    data = data.drop([col], axis = 1)\n"
   ]
  },
  {
   "cell_type": "markdown",
   "metadata": {},
   "source": [
    "### Missing value treatment"
   ]
  },
  {
   "cell_type": "markdown",
   "metadata": {},
   "source": [
    "Since some of the columns have missing values, so we will impute them by the mean of the column."
   ]
  },
  {
   "cell_type": "code",
   "execution_count": 10,
   "metadata": {},
   "outputs": [
    {
     "data": {
      "text/plain": [
       "id         0\n",
       "f1         0\n",
       "f2         0\n",
       "f3         0\n",
       "f4         0\n",
       "        ... \n",
       "f775    1525\n",
       "f776       0\n",
       "f777       0\n",
       "f778       0\n",
       "loss       0\n",
       "Length: 752, dtype: int64"
      ]
     },
     "execution_count": 10,
     "metadata": {},
     "output_type": "execute_result"
    }
   ],
   "source": [
    "# check the mingging values\n",
    "data.isnull().sum()"
   ]
  },
  {
   "cell_type": "code",
   "execution_count": 11,
   "metadata": {},
   "outputs": [],
   "source": [
    "#imputing missing values with mean of that column\n",
    "data= data.fillna(data.mean(), inplace=False)"
   ]
  },
  {
   "cell_type": "code",
   "execution_count": 12,
   "metadata": {},
   "outputs": [
    {
     "data": {
      "text/plain": [
       "id      0\n",
       "f1      0\n",
       "f2      0\n",
       "f3      0\n",
       "f4      0\n",
       "       ..\n",
       "f775    0\n",
       "f776    0\n",
       "f777    0\n",
       "f778    0\n",
       "loss    0\n",
       "Length: 752, dtype: int64"
      ]
     },
     "execution_count": 12,
     "metadata": {},
     "output_type": "execute_result"
    }
   ],
   "source": [
    "data.isnull().sum()"
   ]
  },
  {
   "cell_type": "markdown",
   "metadata": {},
   "source": [
    "### Correlation"
   ]
  },
  {
   "cell_type": "code",
   "execution_count": 13,
   "metadata": {},
   "outputs": [
    {
     "name": "stdout",
     "output_type": "stream",
     "text": [
      "f612   -0.016543\n",
      "f776   -0.015506\n",
      "f315   -0.011110\n",
      "f314   -0.010643\n",
      "f70    -0.010450\n",
      "f323   -0.010394\n",
      "f69    -0.009851\n",
      "f631   -0.009097\n",
      "f734   -0.008987\n",
      "f322   -0.008834\n",
      "f738   -0.008340\n",
      "f1     -0.008231\n",
      "f428   -0.008081\n",
      "f10    -0.007784\n",
      "f666   -0.007747\n",
      "f290   -0.007706\n",
      "f299   -0.007622\n",
      "f665   -0.007568\n",
      "f291   -0.007263\n",
      "f775   -0.007223\n",
      "f298   -0.007095\n",
      "f526   -0.007027\n",
      "f740   -0.006850\n",
      "f285   -0.006798\n",
      "f667   -0.006711\n",
      "f211   -0.006582\n",
      "f425   -0.006499\n",
      "f426   -0.006379\n",
      "f9     -0.006301\n",
      "f699   -0.006135\n",
      "Name: loss, dtype: float64 \n",
      "\n",
      "f514    0.010524\n",
      "f370    0.010617\n",
      "f353    0.010761\n",
      "f617    0.011093\n",
      "f675    0.011158\n",
      "f13     0.011188\n",
      "f468    0.011211\n",
      "f556    0.011382\n",
      "f251    0.011880\n",
      "f221    0.012016\n",
      "f68     0.012987\n",
      "f597    0.013758\n",
      "f599    0.013758\n",
      "f670    0.014595\n",
      "f67     0.014740\n",
      "f674    0.019426\n",
      "f536    0.025652\n",
      "f471    0.039849\n",
      "loss    1.000000\n",
      "f33          NaN\n",
      "f34          NaN\n",
      "f35          NaN\n",
      "f37          NaN\n",
      "f38          NaN\n",
      "f678         NaN\n",
      "f700         NaN\n",
      "f701         NaN\n",
      "f702         NaN\n",
      "f736         NaN\n",
      "f764         NaN\n",
      "Name: loss, dtype: float64\n"
     ]
    }
   ],
   "source": [
    "# Find all correlations of every feature with the target(loss)\n",
    "corr = data.corr()['loss'].sort_values()\n",
    "\n",
    "# Print the most negative correlations\n",
    "print(corr.head(30), '\\n')\n",
    "\n",
    "# Print the most positive correlations\n",
    "print(corr.tail(30))"
   ]
  },
  {
   "cell_type": "code",
   "execution_count": 14,
   "metadata": {},
   "outputs": [
    {
     "name": "stdout",
     "output_type": "stream",
     "text": [
      "['f33', 'f34', 'f35', 'f37', 'f38', 'f678', 'f700', 'f701', 'f702', 'f736', 'f764']\n"
     ]
    }
   ],
   "source": [
    "# Remove variabels that have NaN correlation with loss  \n",
    "corr_tar_df = corr.to_frame().transpose()\n",
    "col_to_drop = corr_tar_df.columns[corr_tar_df.isna().any()].to_list()\n",
    "print(col_to_drop)"
   ]
  },
  {
   "cell_type": "code",
   "execution_count": 15,
   "metadata": {},
   "outputs": [],
   "source": [
    "data= data.drop(columns = col_to_drop)\n"
   ]
  },
  {
   "cell_type": "markdown",
   "metadata": {},
   "source": [
    "## Target Engineering"
   ]
  },
  {
   "cell_type": "markdown",
   "metadata": {},
   "source": [
    "To indicate whether a loan will be default or not, the loss was measured lies between 0 and 100. \n",
    "In these observation, a loss of 60 means that only 40 is reimbursed. If the loan did not default, the loss was 0.\n",
    "so, to transform this problem into binary classification, we will transform all non zero loss into class 1, \n",
    "which mean a default was triggered."
   ]
  },
  {
   "cell_type": "code",
   "execution_count": 16,
   "metadata": {},
   "outputs": [
    {
     "data": {
      "text/plain": [
       "0     95688\n",
       "2      1297\n",
       "1      1145\n",
       "3      1086\n",
       "4      1038\n",
       "      ...  \n",
       "92        1\n",
       "77        1\n",
       "85        1\n",
       "80        1\n",
       "63        1\n",
       "Name: loss, Length: 89, dtype: int64"
      ]
     },
     "execution_count": 16,
     "metadata": {},
     "output_type": "execute_result"
    }
   ],
   "source": [
    "data['loss'].value_counts()"
   ]
  },
  {
   "cell_type": "code",
   "execution_count": 17,
   "metadata": {},
   "outputs": [
    {
     "data": {
      "text/plain": [
       "0    95688\n",
       "1     9783\n",
       "Name: loss, dtype: int64"
      ]
     },
     "execution_count": 17,
     "metadata": {},
     "output_type": "execute_result"
    }
   ],
   "source": [
    "# convert the target into binary number: 0 for non-default and 1 for default\n",
    "#y_binary = y.copy()\n",
    "#y_binary[y_binary>0] = 1\n",
    "#y_binary.value_counts()\n",
    "data['loss'][data['loss']>0] = 1\n",
    "data['loss'].value_counts()"
   ]
  },
  {
   "cell_type": "code",
   "execution_count": 18,
   "metadata": {},
   "outputs": [
    {
     "data": {
      "text/plain": [
       "<AxesSubplot:xlabel='loss', ylabel='count'>"
      ]
     },
     "execution_count": 18,
     "metadata": {},
     "output_type": "execute_result"
    },
    {
     "data": {
      "image/png": "[encoded data removed]",
      "text/plain": [
       "<Figure size 432x288 with 1 Axes>"
      ]
     },
     "metadata": {},
     "output_type": "display_data"
    }
   ],
   "source": [
    "sns.countplot(data['loss'])"
   ]
  },
  {
   "cell_type": "markdown",
   "metadata": {},
   "source": [
    "### Over Sampling"
   ]
  },
  {
   "cell_type": "markdown",
   "metadata": {},
   "source": [
    "The above count plot indicates that we have imbalanced dataset. This kind of dataset can influence many machine learning algorithms, leading some to ignore the minority class entirely. To overcome this situation resampling methods like oversampling or undersampling need to be done. This time, I will perform oversampling where we will duplicate or create new synthetic examples in the minority class."
   ]
  },
  {
   "cell_type": "code",
   "execution_count": 19,
   "metadata": {},
   "outputs": [
    {
     "name": "stdout",
     "output_type": "stream",
     "text": [
      "95688 9783\n"
     ]
    }
   ],
   "source": [
    "# Divide by class\n",
    "count_class_0, count_class_1 = data['loss'].value_counts()\n",
    "print(count_class_0, count_class_1)\n",
    "data_class_0 = data[data['loss'] == 0]\n",
    "data_class_1 = data[data['loss'] == 1]"
   ]
  },
  {
   "cell_type": "code",
   "execution_count": 20,
   "metadata": {},
   "outputs": [
    {
     "name": "stdout",
     "output_type": "stream",
     "text": [
      "Random over-sampling:\n",
      "1    95688\n",
      "0    95688\n",
      "Name: loss, dtype: int64\n"
     ]
    },
    {
     "data": {
      "text/plain": [
       "<AxesSubplot:xlabel='loss', ylabel='count'>"
      ]
     },
     "execution_count": 20,
     "metadata": {},
     "output_type": "execute_result"
    },
    {
     "data": {
      "image/png": "[encoded data removed]",
      "text/plain": [
       "<Figure size 432x288 with 1 Axes>"
      ]
     },
     "metadata": {},
     "output_type": "display_data"
    }
   ],
   "source": [
    "# OVER SAMPLING \n",
    "data_class_1_over = data_class_1.sample(count_class_0, replace=True)\n",
    "data_test_over = pd.concat([data_class_0, data_class_1_over], axis=0)\n",
    "\n",
    "print('Random over-sampling:')\n",
    "print(data_test_over.loss.value_counts())\n",
    "\n",
    "sns.countplot(data_test_over['loss'])"
   ]
  },
  {
   "cell_type": "code",
   "execution_count": 21,
   "metadata": {},
   "outputs": [
    {
     "data": {
      "text/plain": [
       "(191376, 741)"
      ]
     },
     "execution_count": 21,
     "metadata": {},
     "output_type": "execute_result"
    }
   ],
   "source": [
    "data_test_over.shape"
   ]
  },
  {
   "cell_type": "code",
   "execution_count": 22,
   "metadata": {},
   "outputs": [
    {
     "data": {
      "text/plain": [
       "(191376, 739)"
      ]
     },
     "execution_count": 22,
     "metadata": {},
     "output_type": "execute_result"
    }
   ],
   "source": [
    "X = data_test_over.drop(['id', 'loss'],  axis = 1)\n",
    "y = data_test_over['loss']\n",
    "X.shape"
   ]
  },
  {
   "cell_type": "markdown",
   "metadata": {},
   "source": [
    "### Train test split"
   ]
  },
  {
   "cell_type": "code",
   "execution_count": 23,
   "metadata": {},
   "outputs": [
    {
     "data": {
      "text/plain": [
       "[(153100, 739), (38276, 739), (153100,), (38276,)]"
      ]
     },
     "execution_count": 23,
     "metadata": {},
     "output_type": "execute_result"
    }
   ],
   "source": [
    "# sp\n",
    "from sklearn.model_selection import train_test_split\n",
    "X_train, X_test, y_train, y_test = train_test_split(X, y, test_size=0.2, random_state=1)\n",
    "[X_train.shape, X_test.shape, y_train.shape, y_test.shape]"
   ]
  },
  {
   "cell_type": "markdown",
   "metadata": {},
   "source": [
    "### Variable Standardization"
   ]
  },
  {
   "cell_type": "markdown",
   "metadata": {},
   "source": [
    "Most of the time, machine learning algorithms perform better when datasets are scaled to a standard range,\n",
    "especially, the data has input values with differing scales. \n",
    "The main idea of standardization is  rescaling the distribution of values so that the mean \n",
    "of observed values is 0 and the standard deviation is 1."
   ]
  },
  {
   "cell_type": "code",
   "execution_count": 24,
   "metadata": {},
   "outputs": [],
   "source": [
    "#Standardization of Variables\n",
    "from sklearn.preprocessing import StandardScaler\n",
    "scalar= StandardScaler()\n",
    "X_train = scalar.fit_transform(X_train)\n",
    "X_test = scalar.transform(X_test)"
   ]
  },
  {
   "cell_type": "markdown",
   "metadata": {},
   "source": [
    "### Dimentional Reduction with Principal Component Analysis (PCA)"
   ]
  },
  {
   "cell_type": "markdown",
   "metadata": {},
   "source": [
    "PCA, is a dimensionality-reduction method that is often used to reduce the dimensionality of data sets, \n",
    "by transforming a large set of variables into a smaller one that still retain as much information as possible."
   ]
  },
  {
   "cell_type": "code",
   "execution_count": 25,
   "metadata": {},
   "outputs": [
    {
     "data": {
      "image/png": "[encoded data removed]",
      "text/plain": [
       "<Figure size 432x288 with 1 Axes>"
      ]
     },
     "metadata": {},
     "output_type": "display_data"
    }
   ],
   "source": [
    "#Principal Component Analysis\n",
    "from sklearn.decomposition import PCA\n",
    "pca = PCA()\n",
    "pca.fit(X_train)\n",
    "plt.plot(np.cumsum(pca.explained_variance_ratio_))\n",
    "plt.xlabel('number of components')\n",
    "plt.ylabel('cumulative explained variance');"
   ]
  },
  {
   "cell_type": "code",
   "execution_count": 26,
   "metadata": {},
   "outputs": [
    {
     "data": {
      "text/plain": [
       "0.9829937212606565"
      ]
     },
     "execution_count": 26,
     "metadata": {},
     "output_type": "execute_result"
    }
   ],
   "source": [
    "np.cumsum(pca.explained_variance_ratio_)[200]"
   ]
  },
  {
   "cell_type": "code",
   "execution_count": 27,
   "metadata": {},
   "outputs": [],
   "source": [
    "final_pca = PCA(n_components=200)\n",
    "final_pca.fit(X_train)\n",
    "X_train_pca = final_pca.transform(X_train)\n",
    "X_train_pca = pd.DataFrame(data = X_train_pca)\n",
    "X_test_pca = final_pca.transform(X_test)\n",
    "X_test_pca = pd.DataFrame(data = X_test_pca)"
   ]
  },
  {
   "cell_type": "markdown",
   "metadata": {},
   "source": [
    "## Modelling\n",
    "\n",
    "### Logistic Regression"
   ]
  },
  {
   "cell_type": "code",
   "execution_count": 28,
   "metadata": {},
   "outputs": [
    {
     "name": "stdout",
     "output_type": "stream",
     "text": [
      "Logistic Regressiont Performance on the test set: Cross Validation Score = 0.6617\n"
     ]
    }
   ],
   "source": [
    "#Fitting Logistic Regression to training set\n",
    "from sklearn.linear_model import LogisticRegression\n",
    "from sklearn.model_selection import cross_val_score\n",
    "\n",
    "log_model = LogisticRegression()\n",
    "log_model.fit(X_train_pca, y_train)\n",
    "\n",
    "accuracies = cross_val_score(estimator = log_model, X = X_train_pca, y = y_train, cv = 5)\n",
    "random_cross = accuracies.mean()\n",
    "print('Logistic Regressiont Performance on the test set: Cross Validation Score = %0.4f' % random_cross)"
   ]
  },
  {
   "cell_type": "code",
   "execution_count": 29,
   "metadata": {},
   "outputs": [],
   "source": [
    "y_pred= log_model.predict(X_test_pca)"
   ]
  },
  {
   "cell_type": "code",
   "execution_count": 30,
   "metadata": {},
   "outputs": [
    {
     "data": {
      "text/html": [
       "<div>\n",
       "<style scoped>\n",
       "    .dataframe tbody tr th:only-of-type {\n",
       "        vertical-align: middle;\n",
       "    }\n",
       "\n",
       "    .dataframe tbody tr th {\n",
       "        vertical-align: top;\n",
       "    }\n",
       "\n",
       "    .dataframe thead th {\n",
       "        text-align: right;\n",
       "    }\n",
       "</style>\n",
       "<table border=\"1\" class=\"dataframe\">\n",
       "  <thead>\n",
       "    <tr style=\"text-align: right;\">\n",
       "      <th></th>\n",
       "      <th>Predicted non-default (0)</th>\n",
       "      <th>Predicted default (1)</th>\n",
       "    </tr>\n",
       "  </thead>\n",
       "  <tbody>\n",
       "    <tr>\n",
       "      <th>Actual non-default (0)</th>\n",
       "      <td>12235</td>\n",
       "      <td>7054</td>\n",
       "    </tr>\n",
       "    <tr>\n",
       "      <th>Actual default (1)</th>\n",
       "      <td>5856</td>\n",
       "      <td>13131</td>\n",
       "    </tr>\n",
       "  </tbody>\n",
       "</table>\n",
       "</div>"
      ],
      "text/plain": [
       "                        Predicted non-default (0)  Predicted default (1)\n",
       "Actual non-default (0)                      12235                   7054\n",
       "Actual default (1)                           5856                  13131"
      ]
     },
     "execution_count": 30,
     "metadata": {},
     "output_type": "execute_result"
    }
   ],
   "source": [
    "import sklearn.metrics as sm\n",
    "cmatrix = pd.DataFrame(sm.confusion_matrix(y_test, y_pred), index=['Actual non-default (0)','Actual default (1)'])\n",
    "cmatrix.columns = ['Predicted non-default (0)','Predicted default (1)']\n",
    "cmatrix"
   ]
  },
  {
   "cell_type": "code",
   "execution_count": 31,
   "metadata": {},
   "outputs": [
    {
     "name": "stdout",
     "output_type": "stream",
     "text": [
      "['The accuracy on the test data is 66.27%']\n"
     ]
    }
   ],
   "source": [
    "print([\"The accuracy on the test data is \" + str(round(sm.accuracy_score(y_test, y_pred)*100,ndigits = 2)) + \"%\"])\n"
   ]
  },
  {
   "cell_type": "code",
   "execution_count": 32,
   "metadata": {},
   "outputs": [
    {
     "name": "stdout",
     "output_type": "stream",
     "text": [
      "F1 score is : 0.663\n"
     ]
    }
   ],
   "source": [
    "from sklearn.metrics import f1_score\n",
    "print(\"F1 score is :\",round(f1_score(y_test, y_pred, average='macro'),3)) "
   ]
  },
  {
   "cell_type": "code",
   "execution_count": null,
   "metadata": {},
   "outputs": [],
   "source": []
  },
  {
   "cell_type": "markdown",
   "metadata": {},
   "source": [
    "### Random Forest"
   ]
  },
  {
   "cell_type": "code",
   "execution_count": 33,
   "metadata": {},
   "outputs": [
    {
     "name": "stdout",
     "output_type": "stream",
     "text": [
      "Random Forest Performance on the test set: Cross Validation Score = 0.9921\n"
     ]
    }
   ],
   "source": [
    "# # Random Forest Classification\n",
    "from sklearn.ensemble import RandomForestClassifier\n",
    "\n",
    "random = RandomForestClassifier(n_estimators = 10, criterion = 'entropy')\n",
    "random.fit(X_train_pca, y_train)\n",
    "\n",
    "accuracies = cross_val_score(estimator = random, X = X_train_pca, y = y_train, cv = 5)\n",
    "random_cross = accuracies.mean()\n",
    "print('Random Forest Performance on the test set: Cross Validation Score = %0.4f' % random_cross)"
   ]
  },
  {
   "cell_type": "code",
   "execution_count": 34,
   "metadata": {},
   "outputs": [],
   "source": [
    "random_pred = random.predict(X_test_pca)"
   ]
  },
  {
   "cell_type": "code",
   "execution_count": 35,
   "metadata": {},
   "outputs": [
    {
     "data": {
      "text/html": [
       "<div>\n",
       "<style scoped>\n",
       "    .dataframe tbody tr th:only-of-type {\n",
       "        vertical-align: middle;\n",
       "    }\n",
       "\n",
       "    .dataframe tbody tr th {\n",
       "        vertical-align: top;\n",
       "    }\n",
       "\n",
       "    .dataframe thead th {\n",
       "        text-align: right;\n",
       "    }\n",
       "</style>\n",
       "<table border=\"1\" class=\"dataframe\">\n",
       "  <thead>\n",
       "    <tr style=\"text-align: right;\">\n",
       "      <th></th>\n",
       "      <th>Predicted non-default (0)</th>\n",
       "      <th>Predicted default (1)</th>\n",
       "    </tr>\n",
       "  </thead>\n",
       "  <tbody>\n",
       "    <tr>\n",
       "      <th>Actual non-default (0)</th>\n",
       "      <td>19191</td>\n",
       "      <td>98</td>\n",
       "    </tr>\n",
       "    <tr>\n",
       "      <th>Actual default (1)</th>\n",
       "      <td>27</td>\n",
       "      <td>18960</td>\n",
       "    </tr>\n",
       "  </tbody>\n",
       "</table>\n",
       "</div>"
      ],
      "text/plain": [
       "                        Predicted non-default (0)  Predicted default (1)\n",
       "Actual non-default (0)                      19191                     98\n",
       "Actual default (1)                             27                  18960"
      ]
     },
     "execution_count": 35,
     "metadata": {},
     "output_type": "execute_result"
    }
   ],
   "source": [
    "import sklearn.metrics as sm\n",
    "cmatrix = pd.DataFrame(sm.confusion_matrix(y_test, random_pred), index=['Actual non-default (0)','Actual default (1)'])\n",
    "cmatrix.columns = ['Predicted non-default (0)','Predicted default (1)']\n",
    "cmatrix"
   ]
  },
  {
   "cell_type": "code",
   "execution_count": 36,
   "metadata": {},
   "outputs": [
    {
     "name": "stdout",
     "output_type": "stream",
     "text": [
      "['The accuracy on the test data is 99.67%']\n"
     ]
    }
   ],
   "source": [
    "print([\"The accuracy on the test data is \" + str(round(sm.accuracy_score(y_test, random_pred)*100,ndigits = 2)) + \"%\"])\n"
   ]
  },
  {
   "cell_type": "code",
   "execution_count": 37,
   "metadata": {},
   "outputs": [
    {
     "name": "stdout",
     "output_type": "stream",
     "text": [
      "F1 score is : 0.997\n"
     ]
    }
   ],
   "source": [
    "print(\"F1 score is :\",round(f1_score(y_test, random_pred, average='macro'),3)) "
   ]
  },
  {
   "cell_type": "markdown",
   "metadata": {},
   "source": [
    "### Decision Tree"
   ]
  },
  {
   "cell_type": "code",
   "execution_count": 38,
   "metadata": {},
   "outputs": [
    {
     "name": "stdout",
     "output_type": "stream",
     "text": [
      "Decision Tree Performance on the test set: Cross Validation Score = 0.9310\n"
     ]
    }
   ],
   "source": [
    "#Fitting Decision Tree to training set\n",
    "from sklearn import tree\n",
    "dtree = tree.DecisionTreeClassifier()\n",
    "dtree.fit(X_train_pca, y_train)\n",
    "\n",
    "accuracies = cross_val_score(estimator = dtree, X = X_train_pca, y = y_train, cv = 5)\n",
    "random_cross = accuracies.mean()\n",
    "print('Decision Tree Performance on the test set: Cross Validation Score = %0.4f' % random_cross)"
   ]
  },
  {
   "cell_type": "code",
   "execution_count": 39,
   "metadata": {},
   "outputs": [],
   "source": [
    "dtree_pred = random.predict(X_test_pca)"
   ]
  },
  {
   "cell_type": "code",
   "execution_count": 40,
   "metadata": {},
   "outputs": [
    {
     "data": {
      "text/html": [
       "<div>\n",
       "<style scoped>\n",
       "    .dataframe tbody tr th:only-of-type {\n",
       "        vertical-align: middle;\n",
       "    }\n",
       "\n",
       "    .dataframe tbody tr th {\n",
       "        vertical-align: top;\n",
       "    }\n",
       "\n",
       "    .dataframe thead th {\n",
       "        text-align: right;\n",
       "    }\n",
       "</style>\n",
       "<table border=\"1\" class=\"dataframe\">\n",
       "  <thead>\n",
       "    <tr style=\"text-align: right;\">\n",
       "      <th></th>\n",
       "      <th>Predicted non-default (0)</th>\n",
       "      <th>Predicted default (1)</th>\n",
       "    </tr>\n",
       "  </thead>\n",
       "  <tbody>\n",
       "    <tr>\n",
       "      <th>Actual non-default (0)</th>\n",
       "      <td>19191</td>\n",
       "      <td>98</td>\n",
       "    </tr>\n",
       "    <tr>\n",
       "      <th>Actual default (1)</th>\n",
       "      <td>27</td>\n",
       "      <td>18960</td>\n",
       "    </tr>\n",
       "  </tbody>\n",
       "</table>\n",
       "</div>"
      ],
      "text/plain": [
       "                        Predicted non-default (0)  Predicted default (1)\n",
       "Actual non-default (0)                      19191                     98\n",
       "Actual default (1)                             27                  18960"
      ]
     },
     "execution_count": 40,
     "metadata": {},
     "output_type": "execute_result"
    }
   ],
   "source": [
    "import sklearn.metrics as sm\n",
    "cmatrix = pd.DataFrame(sm.confusion_matrix(y_test, dtree_pred), index=['Actual non-default (0)','Actual default (1)'])\n",
    "cmatrix.columns = ['Predicted non-default (0)','Predicted default (1)']\n",
    "cmatrix"
   ]
  },
  {
   "cell_type": "code",
   "execution_count": 41,
   "metadata": {},
   "outputs": [
    {
     "name": "stdout",
     "output_type": "stream",
     "text": [
      "['The accuracy on the test data is 99.67%']\n"
     ]
    }
   ],
   "source": [
    "print([\"The accuracy on the test data is \" + str(round(sm.accuracy_score(y_test, dtree_pred)*100,ndigits = 2)) + \"%\"])\n"
   ]
  },
  {
   "cell_type": "code",
   "execution_count": 42,
   "metadata": {},
   "outputs": [
    {
     "name": "stdout",
     "output_type": "stream",
     "text": [
      "F1 score is : 0.997\n"
     ]
    }
   ],
   "source": [
    "print(\"F1 score is :\",round(f1_score(y_test, dtree_pred, average='macro'),3)) "
   ]
  },
  {
   "cell_type": "code",
   "execution_count": null,
   "metadata": {},
   "outputs": [],
   "source": []
  }
 ],
 "metadata": {
  "kernelspec": {
   "display_name": "Python 3",
   "language": "python",
   "name": "python3"
  },
  "language_info": {
   "codemirror_mode": {
    "name": "ipython",
    "version": 3
   },
   "file_extension": ".py",
   "mimetype": "text/x-python",
   "name": "python",
   "nbconvert_exporter": "python",
   "pygments_lexer": "ipython3",
   "version": "3.8.3"
  }
 },
 "nbformat": 4,
 "nbformat_minor": 4
}
